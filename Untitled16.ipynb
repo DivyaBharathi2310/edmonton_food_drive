{
  "cells": [
    {
      "cell_type": "code",
      "execution_count": 10,
      "metadata": {
        "colab": {
          "base_uri": "https://localhost:8080/"
        },
        "id": "Qtn5fMj8FUoj",
        "outputId": "8a0cfd7f-93fa-4681-ba88-1b7f3df9bf9d"
      },
      "outputs": [
        {
          "output_type": "stream",
          "name": "stdout",
          "text": [
            "Requirement already satisfied: streamlit in /usr/local/lib/python3.10/dist-packages (1.29.0)\n",
            "Requirement already satisfied: joblib in /usr/local/lib/python3.10/dist-packages (1.3.2)\n",
            "Requirement already satisfied: altair<6,>=4.0 in /usr/local/lib/python3.10/dist-packages (from streamlit) (4.2.2)\n",
            "Requirement already satisfied: blinker<2,>=1.0.0 in /usr/lib/python3/dist-packages (from streamlit) (1.4)\n",
            "Requirement already satisfied: cachetools<6,>=4.0 in /usr/local/lib/python3.10/dist-packages (from streamlit) (5.3.2)\n",
            "Requirement already satisfied: click<9,>=7.0 in /usr/local/lib/python3.10/dist-packages (from streamlit) (8.1.7)\n",
            "Requirement already satisfied: importlib-metadata<7,>=1.4 in /usr/local/lib/python3.10/dist-packages (from streamlit) (6.11.0)\n",
            "Requirement already satisfied: numpy<2,>=1.19.3 in /usr/local/lib/python3.10/dist-packages (from streamlit) (1.23.5)\n",
            "Requirement already satisfied: packaging<24,>=16.8 in /usr/local/lib/python3.10/dist-packages (from streamlit) (23.2)\n",
            "Requirement already satisfied: pandas<3,>=1.3.0 in /usr/local/lib/python3.10/dist-packages (from streamlit) (1.5.3)\n",
            "Requirement already satisfied: pillow<11,>=7.1.0 in /usr/local/lib/python3.10/dist-packages (from streamlit) (9.4.0)\n",
            "Requirement already satisfied: protobuf<5,>=3.20 in /usr/local/lib/python3.10/dist-packages (from streamlit) (3.20.3)\n",
            "Requirement already satisfied: pyarrow>=6.0 in /usr/local/lib/python3.10/dist-packages (from streamlit) (10.0.1)\n",
            "Requirement already satisfied: python-dateutil<3,>=2.7.3 in /usr/local/lib/python3.10/dist-packages (from streamlit) (2.8.2)\n",
            "Requirement already satisfied: requests<3,>=2.27 in /usr/local/lib/python3.10/dist-packages (from streamlit) (2.31.0)\n",
            "Requirement already satisfied: rich<14,>=10.14.0 in /usr/local/lib/python3.10/dist-packages (from streamlit) (13.7.0)\n",
            "Requirement already satisfied: tenacity<9,>=8.1.0 in /usr/local/lib/python3.10/dist-packages (from streamlit) (8.2.3)\n",
            "Requirement already satisfied: toml<2,>=0.10.1 in /usr/local/lib/python3.10/dist-packages (from streamlit) (0.10.2)\n",
            "Requirement already satisfied: typing-extensions<5,>=4.3.0 in /usr/local/lib/python3.10/dist-packages (from streamlit) (4.5.0)\n",
            "Requirement already satisfied: tzlocal<6,>=1.1 in /usr/local/lib/python3.10/dist-packages (from streamlit) (5.2)\n",
            "Requirement already satisfied: validators<1,>=0.2 in /usr/local/lib/python3.10/dist-packages (from streamlit) (0.22.0)\n",
            "Requirement already satisfied: gitpython!=3.1.19,<4,>=3.0.7 in /usr/local/lib/python3.10/dist-packages (from streamlit) (3.1.40)\n",
            "Requirement already satisfied: pydeck<1,>=0.8.0b4 in /usr/local/lib/python3.10/dist-packages (from streamlit) (0.8.1b0)\n",
            "Requirement already satisfied: tornado<7,>=6.0.3 in /usr/local/lib/python3.10/dist-packages (from streamlit) (6.3.2)\n",
            "Requirement already satisfied: watchdog>=2.1.5 in /usr/local/lib/python3.10/dist-packages (from streamlit) (3.0.0)\n",
            "Requirement already satisfied: entrypoints in /usr/local/lib/python3.10/dist-packages (from altair<6,>=4.0->streamlit) (0.4)\n",
            "Requirement already satisfied: jinja2 in /usr/local/lib/python3.10/dist-packages (from altair<6,>=4.0->streamlit) (3.1.2)\n",
            "Requirement already satisfied: jsonschema>=3.0 in /usr/local/lib/python3.10/dist-packages (from altair<6,>=4.0->streamlit) (4.19.2)\n",
            "Requirement already satisfied: toolz in /usr/local/lib/python3.10/dist-packages (from altair<6,>=4.0->streamlit) (0.12.0)\n",
            "Requirement already satisfied: gitdb<5,>=4.0.1 in /usr/local/lib/python3.10/dist-packages (from gitpython!=3.1.19,<4,>=3.0.7->streamlit) (4.0.11)\n",
            "Requirement already satisfied: zipp>=0.5 in /usr/local/lib/python3.10/dist-packages (from importlib-metadata<7,>=1.4->streamlit) (3.17.0)\n",
            "Requirement already satisfied: pytz>=2020.1 in /usr/local/lib/python3.10/dist-packages (from pandas<3,>=1.3.0->streamlit) (2023.3.post1)\n",
            "Requirement already satisfied: six>=1.5 in /usr/local/lib/python3.10/dist-packages (from python-dateutil<3,>=2.7.3->streamlit) (1.16.0)\n",
            "Requirement already satisfied: charset-normalizer<4,>=2 in /usr/local/lib/python3.10/dist-packages (from requests<3,>=2.27->streamlit) (3.3.2)\n",
            "Requirement already satisfied: idna<4,>=2.5 in /usr/local/lib/python3.10/dist-packages (from requests<3,>=2.27->streamlit) (3.6)\n",
            "Requirement already satisfied: urllib3<3,>=1.21.1 in /usr/local/lib/python3.10/dist-packages (from requests<3,>=2.27->streamlit) (2.0.7)\n",
            "Requirement already satisfied: certifi>=2017.4.17 in /usr/local/lib/python3.10/dist-packages (from requests<3,>=2.27->streamlit) (2023.11.17)\n",
            "Requirement already satisfied: markdown-it-py>=2.2.0 in /usr/local/lib/python3.10/dist-packages (from rich<14,>=10.14.0->streamlit) (3.0.0)\n",
            "Requirement already satisfied: pygments<3.0.0,>=2.13.0 in /usr/local/lib/python3.10/dist-packages (from rich<14,>=10.14.0->streamlit) (2.16.1)\n",
            "Requirement already satisfied: smmap<6,>=3.0.1 in /usr/local/lib/python3.10/dist-packages (from gitdb<5,>=4.0.1->gitpython!=3.1.19,<4,>=3.0.7->streamlit) (5.0.1)\n",
            "Requirement already satisfied: MarkupSafe>=2.0 in /usr/local/lib/python3.10/dist-packages (from jinja2->altair<6,>=4.0->streamlit) (2.1.3)\n",
            "Requirement already satisfied: attrs>=22.2.0 in /usr/local/lib/python3.10/dist-packages (from jsonschema>=3.0->altair<6,>=4.0->streamlit) (23.1.0)\n",
            "Requirement already satisfied: jsonschema-specifications>=2023.03.6 in /usr/local/lib/python3.10/dist-packages (from jsonschema>=3.0->altair<6,>=4.0->streamlit) (2023.11.2)\n",
            "Requirement already satisfied: referencing>=0.28.4 in /usr/local/lib/python3.10/dist-packages (from jsonschema>=3.0->altair<6,>=4.0->streamlit) (0.31.1)\n",
            "Requirement already satisfied: rpds-py>=0.7.1 in /usr/local/lib/python3.10/dist-packages (from jsonschema>=3.0->altair<6,>=4.0->streamlit) (0.13.2)\n",
            "Requirement already satisfied: mdurl~=0.1 in /usr/local/lib/python3.10/dist-packages (from markdown-it-py>=2.2.0->rich<14,>=10.14.0->streamlit) (0.1.2)\n"
          ]
        }
      ],
      "source": [
        "#install streamlit, one time execution\n",
        "!pip install streamlit joblib"
      ]
    },
    {
      "cell_type": "code",
      "execution_count": 11,
      "metadata": {
        "id": "ojuEoXQyFOCm"
      },
      "outputs": [],
      "source": [
        "#import streamlit\n",
        "import streamlit as st"
      ]
    },
    {
      "cell_type": "code",
      "source": [
        "import os\n",
        "os.environ['GRADIENT_ACCESS_TOKEN'] = \"FvHxDEracw24r8tFENNNoK2hJlTgfXvc\"\n",
        "os.environ['GRADIENT_WORKSPACE_ID'] = \"f6cabc9a-4e72-4789-b5f7-f436e7dbdb2d_workspace\""
      ],
      "metadata": {
        "id": "51GFKazPyise"
      },
      "execution_count": 12,
      "outputs": []
    },
    {
      "cell_type": "code",
      "execution_count": 13,
      "metadata": {
        "colab": {
          "base_uri": "https://localhost:8080/"
        },
        "id": "2SDqWWFSGsdn",
        "outputId": "b118e5b9-4a1a-444b-f847-cfe8806a1acb"
      },
      "outputs": [
        {
          "output_type": "stream",
          "name": "stdout",
          "text": [
            "Overwriting app.py\n"
          ]
        }
      ],
      "source": [
        "%%writefile app.py\n",
        "import streamlit as st\n",
        "import pandas as pd\n",
        "import plotly.express as px\n",
        "import joblib\n",
        "\n",
        "\n",
        "# Load the dataset with a specified encoding\n",
        "data = pd.read_csv('/content/fooddrive.csv', encoding='latin1')\n",
        "\n",
        "# Page 1: Dashboard\n",
        "def dashboard():\n",
        "    st.title(\"Edmonton Food Drive Dashboard\")\n",
        "    st.image(\"/content/Untitled design.jpg\")\n",
        "\n",
        "    st.subheader(\"💡 Abstract:\")\n",
        "    inspiration = '''\n",
        "    Food drives are crucial for addressing hunger and supporting vulnerable communities.\n",
        "    They provide essential sustenance to those in need, fostering a sense of community and compassion.\n",
        "    We Norquesters are super proud to be a part of the food drive.\n",
        "    '''\n",
        "    st.write(inspiration)\n",
        "\n",
        "    st.subheader(\"👨🏻‍💻 What our Project Does?\")\n",
        "    what_it_does = '''\n",
        "    This machine learning model mainly focuses on predicting the number of bags collected. With this, the volunteering experience and resource allocation can be optimized.\n",
        "    Further, our team has also proposed an optimized version of the data collection form.\n",
        "    By addressing logistical challenges, it will enhance efficiency and help vulnerable communities receive essential sustenance more effectively.\n",
        "    '''\n",
        "    st.write(what_it_does)\n",
        "\n",
        "def stakeholders():\n",
        "    st.image(['/content/WhatsApp Image 2023-12-13 at 14.40.27_6533e7d9.jpg', '/content/WhatsApp Image 2023-12-13 at 14.40.17_a145700a.jpg','/content/WhatsApp Image 2023-12-13 at 14.40.37_7307f472.jpg','/content/WhatsApp Image 2023-12-13 at 14.40.52_121eb9c6.jpg','/content/WhatsApp Image 2023-12-13 at 14.42.42_e23edd29.jpg'])\n",
        "\n",
        "def data_collection():\n",
        "    st.title(\"Data Collection\")\n",
        "    st.write(\"Please fill out the Google form to contribute to our Food Drive!\")\n",
        "    google_form_url = \"https://forms.gle/NQX4z9WwqhJaeUFV8\"\n",
        "    st.markdown(f\"[Data Collection Form]({google_form_url})\")\n",
        "\n",
        "def exploratory_data_analysis():\n",
        "    st.title(\"Exploratory Data Analysis\")\n",
        "    # Rename columns for clarity\n",
        "    data_cleaned = data.rename(columns={\n",
        "        'Timestamp': 'Date',\n",
        "        'Drop Off Location': 'Location',\n",
        "        'City': 'City',\n",
        "        'Stake': 'Stake',\n",
        "        'Route Number/Name': 'Route',\n",
        "        '# of Adult Volunteers in this route': '# of Adult Volunteers',\n",
        "        '# of Youth Volunteers in this route': '# of Youth Volunteers',\n",
        "        '# of Donation Bags Collected/Route': 'Donation Bags Collected',\n",
        "        'Time to Complete (in minutes) pick up of bags /route': 'Time to Complete (min)',\n",
        "        'Did you complete more than 1 route?': 'Completed More Than One Route',\n",
        "        'Number of routes completed': 'Routes Completed',\n",
        "        '# of Doors in Route': 'Doors in Route'\n",
        "    })\n",
        "\n",
        "    # Visualize the distribution of numerical features using Plotly\n",
        "    fig = px.histogram(data_cleaned, x='# of Adult Volunteers', nbins=20, labels={'# of Adult Volunteers': 'Adult Volunteers'})\n",
        "    st.plotly_chart(fig)\n",
        "\n",
        "    fig = px.histogram(data_cleaned, x='# of Youth Volunteers', nbins=20, labels={'# of Youth Volunteers': 'Youth Volunteers'})\n",
        "    st.plotly_chart(fig)\n",
        "\n",
        "    fig = px.histogram(data_cleaned, x='Donation Bags Collected', nbins=20, labels={'Donation Bags Collected': 'Donation Bags Collected'})\n",
        "    st.plotly_chart(fig)\n",
        "\n",
        "    fig = px.histogram(data_cleaned, x='Time to Complete (min)', nbins=20, labels={'Time to Complete (min)': 'Time to Complete'})\n",
        "    st.plotly_chart(fig)\n",
        "\n",
        "\n",
        "def machine_learning_modeling():\n",
        "    st.title(\"Machine Learning Modeling\")\n",
        "    st.write(\"Enter the details to predict donation bags:\")\n",
        "\n",
        "    # Input fields for user to enter data\n",
        "    routes_completed = st.slider(\"Routes Completed\", 1, 10, 5)\n",
        "    time_spent = st.slider(\"Time Spent (minutes)\", 10, 300, 60)\n",
        "    adult_volunteers = st.slider(\"Number of Adult Volunteers\", 1, 50, 10)\n",
        "    doors_in_route = st.slider(\"Number of Doors in Route\", 10, 500, 100)\n",
        "\n",
        "\n",
        "    # Predict button\n",
        "    if st.button(\"Predict\"):\n",
        "        # Load the trained model\n",
        "        model = joblib.load('/content/random_forest_regressor_model.pkl')\n",
        "\n",
        "        # Prepare input data for prediction\n",
        "        input_data = [[routes_completed, time_spent, adult_volunteers, doors_in_route]]\n",
        "\n",
        "        # Make prediction\n",
        "        prediction = model.predict(input_data)\n",
        "\n",
        "        # Display the prediction\n",
        "        st.success(f\"Predicted Donation Bags: {prediction[0]}\")\n",
        "def chatbot():\n",
        "    st.title(\"Interactive Food Drive Assistant\")\n",
        "    st.write(\"Ask a question about the Food Drive!\")\n",
        "\n",
        "    with Gradient() as gradient:\n",
        "        base_model = gradient.get_base_model(base_model_slug=\"nous-hermes2\")\n",
        "        new_model_adapter = base_model.create_model_adapter(name=\"interactive_food_drive_model\")\n",
        "\n",
        "        user_input = st.text_input(\"Ask your question:\")\n",
        "        if user_input and user_input.lower() not in ['quit', 'exit']:\n",
        "            sample_query = f\"### Instruction: {user_input} \\n\\n### Response:\"\n",
        "            st.markdown(f\"Asking: {sample_query}\")\n",
        "\n",
        "            # before fine-tuning\n",
        "            completion = new_model_adapter.complete(query=sample_query, max_generated_token_count=100).generated_output\n",
        "            st.markdown(f\"Generated: {completion}\")\n",
        "\n",
        "        # Delete the model adapter after generating the response\n",
        "        new_model_adapter.delete()\n",
        "geodata = pd.read_csv(\"/content/ADDRESS ONLY Property_Assessment_Data__Current_Calendar_Year_ - Property_Assessment_Data__Current_.csv\")\n",
        "def neighbourhood_mapping():\n",
        "    st.title(\"Neighbourhood Mapping\")\n",
        "\n",
        "    # Get user input for neighborhood\n",
        "    user_neighbourhood = st.text_input(\"Enter the neighborhood:\")\n",
        "\n",
        "    # Check if user provided input\n",
        "    if user_neighbourhood:\n",
        "        # Filter the dataset based on the user input\n",
        "        filtered_data = geodata[geodata['Neighbourhood'] == user_neighbourhood]\n",
        "\n",
        "        # Check if the filtered data is empty, if so, return a message indicating no data found\n",
        "        if filtered_data.empty:\n",
        "            st.write(\"No data found for the specified neighborhood.\")\n",
        "        else:\n",
        "            # Create the map using the filtered data\n",
        "            fig = px.scatter_mapbox(filtered_data,\n",
        "                                    lat='Latitude',\n",
        "                                    lon='Longitude',\n",
        "                                    hover_name='Neighbourhood',\n",
        "                                    zoom=12)\n",
        "\n",
        "            # Update map layout to use OpenStreetMap style\n",
        "            fig.update_layout(mapbox_style='open-street-map')\n",
        "\n",
        "            # Show the map\n",
        "            st.plotly_chart(fig)\n",
        "    else:\n",
        "        st.write(\"Please enter a neighborhood to generate the map.\")\n",
        "\n",
        "\n",
        "\n",
        "# Main App Logic\n",
        "def main():\n",
        "    st.sidebar.title(\"Food Drive App\")\n",
        "    app_page = st.sidebar.radio(\"Select a Page\", [\"Dashboard\", \"Stakeholders\",\"Data Collection\",\"EDA\", \"ML Modeling\", \"Neighbourhood Mapping\"])\n",
        "\n",
        "    if app_page == \"Dashboard\":\n",
        "        dashboard()\n",
        "    elif app_page==\"Stakeholders\":\n",
        "        stakeholders()\n",
        "    elif app_page == \"EDA\":\n",
        "        exploratory_data_analysis()\n",
        "    elif app_page == \"ML Modeling\":\n",
        "        machine_learning_modeling()\n",
        "    elif app_page == \"Neighbourhood Mapping\":\n",
        "        neighbourhood_mapping()\n",
        "    elif app_page == \"Data Collection\":\n",
        "        data_collection()\n",
        "\n",
        "if __name__ == \"__main__\":\n",
        "    main()\n",
        "\n",
        "\n",
        "\n"
      ]
    },
    {
      "cell_type": "code",
      "execution_count": 14,
      "metadata": {
        "colab": {
          "base_uri": "https://localhost:8080/"
        },
        "id": "uubilqlIMeSN",
        "outputId": "01be71c1-9a1c-454a-f542-c28e1142ba2f"
      },
      "outputs": [
        {
          "output_type": "stream",
          "name": "stdout",
          "text": [
            "\u001b[K\u001b[?25h\u001b[37;40mnpm\u001b[0m \u001b[0m\u001b[30;43mWARN\u001b[0m \u001b[0m\u001b[35msaveError\u001b[0m ENOENT: no such file or directory, open '/content/package.json'\n",
            "\u001b[0m\u001b[37;40mnpm\u001b[0m \u001b[0m\u001b[30;43mWARN\u001b[0m \u001b[0m\u001b[35menoent\u001b[0m ENOENT: no such file or directory, open '/content/package.json'\n",
            "\u001b[0m\u001b[37;40mnpm\u001b[0m \u001b[0m\u001b[30;43mWARN\u001b[0m\u001b[35m\u001b[0m content No description\n",
            "\u001b[0m\u001b[37;40mnpm\u001b[0m \u001b[0m\u001b[30;43mWARN\u001b[0m\u001b[35m\u001b[0m content No repository field.\n",
            "\u001b[0m\u001b[37;40mnpm\u001b[0m \u001b[0m\u001b[30;43mWARN\u001b[0m\u001b[35m\u001b[0m content No README data\n",
            "\u001b[0m\u001b[37;40mnpm\u001b[0m \u001b[0m\u001b[30;43mWARN\u001b[0m\u001b[35m\u001b[0m content No license field.\n",
            "\u001b[0m\n",
            "+ localtunnel@2.0.2\n",
            "updated 1 package and audited 36 packages in 1.537s\n",
            "\n",
            "3 packages are looking for funding\n",
            "  run `npm fund` for details\n",
            "\n",
            "found 2 \u001b[93mmoderate\u001b[0m severity vulnerabilities\n",
            "  run `npm audit fix` to fix them, or `npm audit` for details\n",
            "\u001b[K\u001b[?25h"
          ]
        }
      ],
      "source": [
        "!npm install localtunnel"
      ]
    },
    {
      "cell_type": "code",
      "execution_count": 15,
      "metadata": {
        "colab": {
          "base_uri": "https://localhost:8080/"
        },
        "id": "bOBfEd5CMxnZ",
        "outputId": "93e41a1e-fdcd-44f9-836d-f0e402cbf25b"
      },
      "outputs": [
        {
          "output_type": "stream",
          "name": "stdout",
          "text": [
            "34.133.42.63\n"
          ]
        }
      ],
      "source": [
        "!streamlit run /content/app.py &>/content/logs.txt & curl ipv4.icanhazip.com"
      ]
    },
    {
      "cell_type": "code",
      "execution_count": 16,
      "metadata": {
        "colab": {
          "base_uri": "https://localhost:8080/"
        },
        "id": "BOdlj7NCMzc1",
        "outputId": "981c57da-0e0a-4409-b22f-e077931ed00c"
      },
      "outputs": [
        {
          "output_type": "stream",
          "name": "stdout",
          "text": [
            "\u001b[K\u001b[?25hnpx: installed 22 in 3.042s\n",
            "your url is: https://icy-sheep-pull.loca.lt\n",
            "^C\n"
          ]
        }
      ],
      "source": [
        "!npx localtunnel --port 8501"
      ]
    },
    {
      "cell_type": "code",
      "source": [
        "!pip install pipreqs"
      ],
      "metadata": {
        "colab": {
          "base_uri": "https://localhost:8080/"
        },
        "id": "GSifWaQD0DTH",
        "outputId": "8444dcfa-01ec-4cb3-ea29-92e1f084efe4"
      },
      "execution_count": 17,
      "outputs": [
        {
          "output_type": "stream",
          "name": "stdout",
          "text": [
            "Requirement already satisfied: pipreqs in /usr/local/lib/python3.10/dist-packages (0.4.13)\n",
            "Requirement already satisfied: docopt in /usr/local/lib/python3.10/dist-packages (from pipreqs) (0.6.2)\n",
            "Requirement already satisfied: yarg in /usr/local/lib/python3.10/dist-packages (from pipreqs) (0.1.9)\n",
            "Requirement already satisfied: requests in /usr/local/lib/python3.10/dist-packages (from yarg->pipreqs) (2.31.0)\n",
            "Requirement already satisfied: charset-normalizer<4,>=2 in /usr/local/lib/python3.10/dist-packages (from requests->yarg->pipreqs) (3.3.2)\n",
            "Requirement already satisfied: idna<4,>=2.5 in /usr/local/lib/python3.10/dist-packages (from requests->yarg->pipreqs) (3.6)\n",
            "Requirement already satisfied: urllib3<3,>=1.21.1 in /usr/local/lib/python3.10/dist-packages (from requests->yarg->pipreqs) (2.0.7)\n",
            "Requirement already satisfied: certifi>=2017.4.17 in /usr/local/lib/python3.10/dist-packages (from requests->yarg->pipreqs) (2023.11.17)\n"
          ]
        }
      ]
    },
    {
      "cell_type": "code",
      "source": [
        "!pipreqs #(to create a new requirements.txt file) Delete current file\n",
        "!pipreqs --force #(to replace existing requirements.txt file)"
      ],
      "metadata": {
        "colab": {
          "base_uri": "https://localhost:8080/"
        },
        "id": "1JofBHPK0DWg",
        "outputId": "3873d6c9-608b-443b-a16f-cebd12526e60"
      },
      "execution_count": 19,
      "outputs": [
        {
          "output_type": "stream",
          "name": "stdout",
          "text": [
            "WARNING: requirements.txt already exists, use --force to overwrite it\n",
            "INFO: Successfully saved requirements file in /content/requirements.txt\n"
          ]
        }
      ]
    }
  ],
  "metadata": {
    "colab": {
      "provenance": []
    },
    "kernelspec": {
      "display_name": "Python 3",
      "name": "python3"
    },
    "language_info": {
      "name": "python"
    }
  },
  "nbformat": 4,
  "nbformat_minor": 0
}